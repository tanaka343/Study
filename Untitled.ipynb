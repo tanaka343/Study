{
 "cells": [
  {
   "cell_type": "code",
   "execution_count": 28,
   "id": "0925d725-6039-49bf-bdd1-123a4ff341ec",
   "metadata": {},
   "outputs": [
    {
     "data": {
      "text/html": [
       "<div>\n",
       "<style scoped>\n",
       "    .dataframe tbody tr th:only-of-type {\n",
       "        vertical-align: middle;\n",
       "    }\n",
       "\n",
       "    .dataframe tbody tr th {\n",
       "        vertical-align: top;\n",
       "    }\n",
       "\n",
       "    .dataframe thead th {\n",
       "        text-align: right;\n",
       "    }\n",
       "</style>\n",
       "<table border=\"1\" class=\"dataframe\">\n",
       "  <thead>\n",
       "    <tr style=\"text-align: right;\">\n",
       "      <th></th>\n",
       "      <th>houjin_name</th>\n",
       "      <th>jigyousyo_name</th>\n",
       "      <th>email</th>\n",
       "      <th>phone</th>\n",
       "      <th>website</th>\n",
       "    </tr>\n",
       "  </thead>\n",
       "  <tbody>\n",
       "    <tr>\n",
       "      <th>1</th>\n",
       "      <td>聖華株式会社</td>\n",
       "      <td>イルカ児童園</td>\n",
       "      <td>irukajidouen@gmail.com</td>\n",
       "      <td>03-6697-9174</td>\n",
       "      <td>https://www.irukajidouen-seika.com/</td>\n",
       "    </tr>\n",
       "    <tr>\n",
       "      <th>2</th>\n",
       "      <td>株式会社フューチャージニアス</td>\n",
       "      <td>エントランス池袋教室</td>\n",
       "      <td>info@dlfg-tokyo.org</td>\n",
       "      <td>03-6909-5740</td>\n",
       "      <td>http://dlfg-tokyo.org/</td>\n",
       "    </tr>\n",
       "  </tbody>\n",
       "</table>\n",
       "</div>"
      ],
      "text/plain": [
       "      houjin_name jigyousyo_name                   email         phone  \\\n",
       "1          聖華株式会社         イルカ児童園  irukajidouen@gmail.com  03-6697-9174   \n",
       "2  株式会社フューチャージニアス     エントランス池袋教室     info@dlfg-tokyo.org  03-6909-5740   \n",
       "\n",
       "                               website  \n",
       "1  https://www.irukajidouen-seika.com/  \n",
       "2               http://dlfg-tokyo.org/  "
      ]
     },
     "metadata": {},
     "output_type": "display_data"
    },
    {
     "name": "stdout",
     "output_type": "stream",
     "text": [
      "{1: '聖華株式会社', 2: '株式会社フューチャージニアス'}\n",
      "{1: 'イルカ児童園', 2: 'エントランス池袋教室'}\n",
      "{1: 'irukajidouen@gmail.com', 2: 'info@dlfg-tokyo.org'}\n",
      "{1: '03-6697-9174', 2: '03-6909-5740'}\n",
      "{1: 'https://www.irukajidouen-seika.com/', 2: 'http://dlfg-tokyo.org/'}\n"
     ]
    }
   ],
   "source": [
    "import pandas as pd\n",
    "\n",
    "df=pd.read_excel(r\"C:\\Users\\Guest User\\OneDrive\\デスクトップ\\【入力シート】全国の放課後等デイサービス事業所リスト作成 のコピー.xlsx\",sheet_name='豊島区'\n",
    "                 ,names=[\"houjin_name\",\"jigyousyo_name\",\"email\",\"phone\",\"website\"])\n",
    "df_new=df.loc[[1,2],:]\n",
    "display(df_new)\n",
    "# print(df_new.houjin_name)\n",
    "a=df_new.to_dict()\n",
    "# print(a['houjin_name'][1])\n",
    "for i in a.values():\n",
    "    print(i)"
   ]
  },
  {
   "cell_type": "code",
   "execution_count": null,
   "id": "5d741485-9aaa-4c87-b36a-c2eee0c3cb0c",
   "metadata": {},
   "outputs": [],
   "source": []
  }
 ],
 "metadata": {
  "kernelspec": {
   "display_name": "Python 3 (ipykernel)",
   "language": "python",
   "name": "python3"
  },
  "language_info": {
   "codemirror_mode": {
    "name": "ipython",
    "version": 3
   },
   "file_extension": ".py",
   "mimetype": "text/x-python",
   "name": "python",
   "nbconvert_exporter": "python",
   "pygments_lexer": "ipython3",
   "version": "3.9.12"
  }
 },
 "nbformat": 4,
 "nbformat_minor": 5
}
