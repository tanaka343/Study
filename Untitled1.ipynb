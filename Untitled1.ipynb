{
 "cells": [
  {
   "cell_type": "code",
   "execution_count": null,
   "id": "19506915-7a61-4e4c-b019-3b02f32b97cc",
   "metadata": {},
   "outputs": [],
   "source": [
    "df=pd.read_excel(r\"C:\\Users\\hyom0\\OneDrive\\デスクトップ\\【入力シート】全国の放課後等デイサービス事業所リスト作成.xlsx\",sheet_name='都島区', names=[\"houjin_name\",\"jigyousyo_name\",\"email\",\"phone\",\"website\"])\n",
    "dict_df=df.to_dict\n",
    "\n",
    "print(dict_df)"
   ]
  },
  {
   "cell_type": "code",
   "execution_count": null,
   "id": "e870ff3e-4dbf-4726-8992-b50e1c664608",
   "metadata": {},
   "outputs": [],
   "source": [
    "import requests\n",
    "\n",
    "res=requests.get('https://zipcloud.ibsnet.co.jp/api/search?zipcode=2260021')\n",
    "json=res.json()\n",
    "print(json['results'][0]['kana3'])\n",
    "\n"
   ]
  },
  {
   "cell_type": "code",
   "execution_count": null,
   "id": "2954bf0e-1f05-4369-849e-dd75d0d1f25a",
   "metadata": {},
   "outputs": [],
   "source": []
  },
  {
   "cell_type": "code",
   "execution_count": null,
   "id": "6ffdcdc5-ee4b-4e5a-9aca-f6f9d0ed98e8",
   "metadata": {},
   "outputs": [],
   "source": []
  },
  {
   "cell_type": "code",
   "execution_count": null,
   "id": "99d8633f-4474-4f1a-9df6-bc42e87a797d",
   "metadata": {},
   "outputs": [],
   "source": []
  }
 ],
 "metadata": {
  "kernelspec": {
   "display_name": "Python 3 (ipykernel)",
   "language": "python",
   "name": "python3"
  },
  "language_info": {
   "codemirror_mode": {
    "name": "ipython",
    "version": 3
   },
   "file_extension": ".py",
   "mimetype": "text/x-python",
   "name": "python",
   "nbconvert_exporter": "python",
   "pygments_lexer": "ipython3",
   "version": "3.9.12"
  }
 },
 "nbformat": 4,
 "nbformat_minor": 5
}
