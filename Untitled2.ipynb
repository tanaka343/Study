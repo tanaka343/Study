{
 "cells": [
  {
   "cell_type": "code",
   "execution_count": 9,
   "id": "67807298-8922-4c63-b1a4-e2bd2966d39b",
   "metadata": {},
   "outputs": [
    {
     "name": "stdout",
     "output_type": "stream",
     "text": [
      "株式会社ファースト・ブレイン\n"
     ]
    }
   ],
   "source": [
    "import pandas as pd\n",
    "df=pd.read_excel(r\"C:\\Users\\hyom0\\OneDrive\\デスクトップ\\【入力シート】全国の放課後等デイサービス事業所リスト作成.xlsx\",sheet_name='都島区', names=[\"houjin_name\",\"jigyousyo_name\",\"email\",\"phone\",\"website\"])\n",
    "dict_df=df.to_dict()\n",
    "\n",
    "print(dict_df['houjin_name'][52])"
   ]
  },
  {
   "cell_type": "code",
   "execution_count": null,
   "id": "05c2d87d-dbbf-40a3-b874-9c9a88b01f54",
   "metadata": {},
   "outputs": [],
   "source": []
  }
 ],
 "metadata": {
  "kernelspec": {
   "display_name": "Python 3 (ipykernel)",
   "language": "python",
   "name": "python3"
  },
  "language_info": {
   "codemirror_mode": {
    "name": "ipython",
    "version": 3
   },
   "file_extension": ".py",
   "mimetype": "text/x-python",
   "name": "python",
   "nbconvert_exporter": "python",
   "pygments_lexer": "ipython3",
   "version": "3.9.12"
  }
 },
 "nbformat": 4,
 "nbformat_minor": 5
}
