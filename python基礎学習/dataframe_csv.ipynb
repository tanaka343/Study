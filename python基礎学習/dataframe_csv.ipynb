{
 "cells": [
  {
   "cell_type": "code",
   "execution_count": 10,
   "id": "3f17b09f-05fb-4f25-9145-ec107b2d107c",
   "metadata": {},
   "outputs": [],
   "source": [
    "import pandas as pd\n",
    "\n",
    "df=pd.read_excel(r\"C:\\Users\\Guest User\\OneDrive\\デスクトップ\\【入力シート】全国の放課後等デイサービス事業所リスト作成 のコピー.xlsx\",sheet_name='豊島区'\n",
    "                  ,names=[\"houjin_name\",\"jigyousyo_name\",\"email\",\"phone\",\"website\"])\n",
    "\n",
    "df_csv=df.to_csv('自動化アプリ出力/to_csv_out.csv',mode='w')\n"
   ]
  },
  {
   "cell_type": "code",
   "execution_count": null,
   "id": "b6709b62-3222-4b4b-ab0b-27aa4942b4c7",
   "metadata": {},
   "outputs": [],
   "source": []
  },
  {
   "cell_type": "code",
   "execution_count": null,
   "id": "2b317802-d7cb-48c0-995f-b9dbd0e6823f",
   "metadata": {},
   "outputs": [],
   "source": []
  }
 ],
 "metadata": {
  "kernelspec": {
   "display_name": "Python 3 (ipykernel)",
   "language": "python",
   "name": "python3"
  },
  "language_info": {
   "codemirror_mode": {
    "name": "ipython",
    "version": 3
   },
   "file_extension": ".py",
   "mimetype": "text/x-python",
   "name": "python",
   "nbconvert_exporter": "python",
   "pygments_lexer": "ipython3",
   "version": "3.9.12"
  }
 },
 "nbformat": 4,
 "nbformat_minor": 5
}
