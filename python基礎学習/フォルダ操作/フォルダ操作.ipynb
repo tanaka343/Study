{
 "cells": [
  {
   "cell_type": "markdown",
   "id": "1ad5c187-e9bf-4160-a21b-3efed5d04e48",
   "metadata": {},
   "source": [
    "# os"
   ]
  },
  {
   "cell_type": "code",
   "execution_count": 2,
   "id": "ede527fe-6602-447f-9eee-14ae9abc4163",
   "metadata": {},
   "outputs": [],
   "source": [
    "import os"
   ]
  },
  {
   "cell_type": "code",
   "execution_count": 3,
   "id": "fd8a2015-c3de-449e-970c-ec85134fea06",
   "metadata": {},
   "outputs": [],
   "source": [
    "os.mkdir('テスト')"
   ]
  },
  {
   "cell_type": "code",
   "execution_count": 4,
   "id": "38623aac-22fa-4739-878b-d4f370102e5f",
   "metadata": {},
   "outputs": [
    {
     "name": "stdout",
     "output_type": "stream",
     "text": [
      "True\n"
     ]
    }
   ],
   "source": [
    "print(os.path.exists('テスト'))"
   ]
  },
  {
   "cell_type": "code",
   "execution_count": null,
   "id": "29bdc3c8-590a-4820-bd7f-e66b9c7ed240",
   "metadata": {},
   "outputs": [],
   "source": []
  }
 ],
 "metadata": {
  "kernelspec": {
   "display_name": "Python 3 (ipykernel)",
   "language": "python",
   "name": "python3"
  },
  "language_info": {
   "codemirror_mode": {
    "name": "ipython",
    "version": 3
   },
   "file_extension": ".py",
   "mimetype": "text/x-python",
   "name": "python",
   "nbconvert_exporter": "python",
   "pygments_lexer": "ipython3",
   "version": "3.9.12"
  }
 },
 "nbformat": 4,
 "nbformat_minor": 5
}
